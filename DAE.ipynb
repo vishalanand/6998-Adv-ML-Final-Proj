{
 "cells": [
  {
   "cell_type": "code",
   "execution_count": 1,
   "metadata": {
    "collapsed": false
   },
   "outputs": [
    {
     "name": "stderr",
     "output_type": "stream",
     "text": [
      "Using TensorFlow backend.\n"
     ]
    }
   ],
   "source": [
    "import keras\n",
    "from keras.layers import Activation, Dense, Input, Flatten, Dropout, Lambda, Softmax\n",
    "from keras.models import Model\n",
    "from keras import regularizers\n",
    "from keras import backend as K\n",
    "import tensorflow as tf\n",
    "\n",
    "import numpy as np\n",
    "from scipy import sparse\n",
    "import pandas as pd\n",
    "import os\n",
    "import gc\n",
    "import bottleneck as bn\n",
    "\n",
    "from sklearn.utils import shuffle\n",
    "from keras.callbacks import Callback, TensorBoard\n",
    "import time"
   ]
  },
  {
   "cell_type": "code",
   "execution_count": 2,
   "metadata": {
    "collapsed": false
   },
   "outputs": [],
   "source": [
    "DATA_DIR = 'mpd_proc/data_small_2'\n",
    "\n",
    "unique_sid = list()\n",
    "with open(os.path.join(DATA_DIR, 'unique_sid.txt'), 'r') as f:\n",
    "    for line in f:\n",
    "        unique_sid.append(line.strip())\n",
    "\n",
    "n_items = len(unique_sid)"
   ]
  },
  {
   "cell_type": "code",
   "execution_count": 3,
   "metadata": {
    "collapsed": false
   },
   "outputs": [
    {
     "data": {
      "text/plain": [
       "69675"
      ]
     },
     "execution_count": 3,
     "metadata": {},
     "output_type": "execute_result"
    }
   ],
   "source": [
    "import matplotlib.pyplot as plt\n",
    "%matplotlib inline"
   ]
  },
  {
   "cell_type": "code",
   "execution_count": 4,
   "metadata": {
    "collapsed": false
   },
   "outputs": [],
   "source": [
    "df = pd.read_csv(os.path.join(DATA_DIR, 'train.csv'))\n",
    "n_users = df['uid'].max() + 1\n",
    "\n",
    "rows, cols = df['uid'], df['sid']\n",
    "train = sparse.csr_matrix((np.ones_like(rows),\n",
    "                         (rows, cols)), dtype='float64',\n",
    "                         shape=(n_users, n_items))"
   ]
  },
  {
   "cell_type": "code",
   "execution_count": 5,
   "metadata": {
    "collapsed": false
   },
   "outputs": [
    {
     "name": "stdout",
     "output_type": "stream",
     "text": [
      "37116328 playlist inclusion events from 373740 playlist and 69675 tracks (sparsity: 0.143%)\n"
     ]
    }
   ],
   "source": [
    "sparsity = 1. * df.shape[0] / (n_users * n_items)\n",
    "\n",
    "print(\"%d playlist inclusion events from %d playlist and %d tracks (sparsity: %.3f%%)\" % \n",
    "      (df.shape[0], n_users, n_items, sparsity * 100))"
   ]
  },
  {
   "cell_type": "code",
   "execution_count": 6,
   "metadata": {
    "collapsed": false
   },
   "outputs": [],
   "source": [
    "def load_tr_te_data(csv_file_tr, csv_file_te):\n",
    "    tp_tr = pd.read_csv(csv_file_tr)\n",
    "    tp_te = pd.read_csv(csv_file_te)\n",
    "\n",
    "    start_idx = min(tp_tr['uid'].min(), tp_te['uid'].min())\n",
    "    end_idx = max(tp_tr['uid'].max(), tp_te['uid'].max())\n",
    "\n",
    "    rows_tr, cols_tr = tp_tr['uid'] - start_idx, tp_tr['sid']\n",
    "    rows_te, cols_te = tp_te['uid'] - start_idx, tp_te['sid']\n",
    "\n",
    "    data_tr = sparse.csr_matrix((np.ones_like(rows_tr),\n",
    "                             (rows_tr, cols_tr)), dtype='float64', shape=(end_idx - start_idx + 1, n_items))\n",
    "    data_te = sparse.csr_matrix((np.ones_like(rows_te),\n",
    "                             (rows_te, cols_te)), dtype='float64', shape=(end_idx - start_idx + 1, n_items))\n",
    "    return data_tr, data_te"
   ]
  },
  {
   "cell_type": "code",
   "execution_count": 7,
   "metadata": {
    "collapsed": false
   },
   "outputs": [],
   "source": [
    "valid_train, valid_test = load_tr_te_data(os.path.join(DATA_DIR, 'validation_tr.csv'),\n",
    "                                           os.path.join(DATA_DIR, 'validation_te.csv'))"
   ]
  },
  {
   "cell_type": "code",
   "execution_count": 8,
   "metadata": {
    "collapsed": false
   },
   "outputs": [],
   "source": [
    "idcg = lambda x, k: np.sum(1/np.log2(np.arange(2, min(k, x)+2)))\n",
    "vidcg = np.vectorize(idcg)\n",
    "    \n",
    "def ndcg_recall_on_batch(preds, holdouts, k=100):\n",
    "    N, M = preds.shape\n",
    "    total_items = holdouts.getnnz(axis=1)\n",
    "    \n",
    "    top_inds = bn.argpartition(-preds, k, axis=1)[:,:k]\n",
    "    top_items = preds[np.arange(N)[:, np.newaxis],top_inds]\n",
    "    ranked_inds = np.argsort(-top_items, axis=1)[:,:k]\n",
    "    ranked_items = top_inds[np.arange(N)[:,np.newaxis],ranked_inds]\n",
    "\n",
    "    matches = holdouts[np.expand_dims(np.arange(N), 1),ranked_items]\n",
    "    dcg = np.sum(matches/np.log2(np.arange(k)+2), axis=1)\n",
    "    idcg = vidcg(total_items, k)\n",
    "    ndcg = dcg/idcg\n",
    "    \n",
    "    recalls = np.sum(matches, axis=1)/np.minimum(k, total_items)\n",
    "    \n",
    "    return ndcg, recalls"
   ]
  },
  {
   "cell_type": "code",
   "execution_count": 9,
   "metadata": {
    "collapsed": false
   },
   "outputs": [],
   "source": [
    "def neg_multi_ll(yTrue,yPred):\n",
    "    return -K.mean(K.sum(yTrue * K.log(yPred)))\n",
    "    \n",
    "class MultiDAEKeras(object):\n",
    "\n",
    "    def __init__(self):\n",
    "        \n",
    "        K.clear_session()\n",
    "        \n",
    "        \n",
    "    def setup(self):\n",
    "        \n",
    "        h1 = 200\n",
    "\n",
    "        enc_inputs = Input(shape=(n_items,), name='enc_input')\n",
    "        inputs_normed = Lambda(lambda  x: tf.nn.l2_normalize(x, dim=1))(enc_inputs)\n",
    "        x = Dropout(0.5)(inputs_normed)\n",
    "\n",
    "        latent1_enc = Dense(h1, activation='tanh', name='latent1_enc', kernel_regularizer=regularizers.l2(0.01))(x)\n",
    "        \n",
    "        self.encoder = Model(enc_inputs, latent1_enc, name='encoder')\n",
    "        \n",
    "        dec_inputs = Input(shape=(h1,), name='dec_inputs')\n",
    "\n",
    "        logits = Dense(n_items, name='logits_dec', kernel_regularizer=regularizers.l2(0.01))(dec_inputs)\n",
    "        probs = Softmax(name='probs_dec')(logits) \n",
    "        \n",
    "        self.decoder = Model(dec_inputs, probs, name='decoder')\n",
    "\n",
    "        self.dae = Model(inputs=enc_inputs, outputs=self.decoder(self.encoder(enc_inputs)), name='denoising_autoencoder')\n",
    "        \n",
    "        return self.dae \n"
   ]
  },
  {
   "cell_type": "code",
   "execution_count": 10,
   "metadata": {
    "collapsed": true
   },
   "outputs": [],
   "source": [
    "def data_generator(data, batch_size):\n",
    "    N = data.shape[0]\n",
    "    while True:\n",
    "        roworder = np.random.permutation(N)\n",
    "        for start in range(0, N, batch_size):\n",
    "            end = min(N, start+batch_size)\n",
    "            batch = data[roworder[start:end]]\n",
    "            batch = batch.toarray().astype('float32')\n",
    "            yield (batch, batch)\n",
    "            "
   ]
  },
  {
   "cell_type": "code",
   "execution_count": 11,
   "metadata": {
    "collapsed": false
   },
   "outputs": [],
   "source": [
    "class RecMetrics(Callback):\n",
    "    \n",
    "    def __init__(self, val_train_data, val_test_data, model_dir, k = 100):\n",
    "        self.val_train_data = val_train_data\n",
    "        self.val_test_data = val_test_data\n",
    "        self.k = k\n",
    "        self.best_ndcg = 0\n",
    "        self.model_dir = model_dir\n",
    "        \n",
    "        return\n",
    "    \n",
    "    def on_train_begin(self, logs={}):\n",
    "        self.ndcg_hist = []\n",
    "        self.recall_hist = []\n",
    "        return\n",
    " \n",
    "    def on_train_end(self, logs={}):\n",
    "        return\n",
    " \n",
    "    def on_epoch_begin(self, epoch, logs={}):\n",
    "        return\n",
    " \n",
    "    def on_epoch_end(self, epoch, logs={}):\n",
    "        N = self.val_train_data.shape[0]\n",
    "        ndcg_list = []\n",
    "        recall_list = []\n",
    "        \n",
    "        for start in range(0, N, 500):\n",
    "            end = min(N, start+500)\n",
    "            X = self.val_train_data[start:end]\n",
    "            X = X.toarray().astype('float32')\n",
    "            preds = np.asarray(self.model.predict(X))\n",
    "            preds[X.nonzero()] = -np.inf\n",
    "            ndcg_batch, recall_batch = ndcg_recall_on_batch(preds, self.val_test_data[start:end], self.k)\n",
    "            ndcg_list.append(ndcg_batch)\n",
    "            recall_list.append(recall_batch)\n",
    "            \n",
    "        ndcg = np.mean(ndcg_list)\n",
    "        recall = np.mean(recall_list)\n",
    "        \n",
    "        print (\"NDCG: {}\".format(ndcg))\n",
    "        print (\"Recall: {}\".format(recall))\n",
    "        self.ndcg_hist.append(ndcg)\n",
    "        self.recall_hist.append(recall)\n",
    "        \n",
    "        if ndcg > self.best_ndcg: \n",
    "            self.model.save(os.path.join(self.model_dir, 'model.h5'))\n",
    "            self.best_ndcg = ndcg\n",
    "            \n",
    "        return\n",
    " \n",
    "    def on_batch_begin(self, batch, logs={}):\n",
    "        return\n",
    " \n",
    "    def on_batch_end(self, batch, logs={}):\n",
    "        return"
   ]
  },
  {
   "cell_type": "code",
   "execution_count": 12,
   "metadata": {
    "collapsed": false
   },
   "outputs": [],
   "source": [
    "\n",
    "logdir = './logs/data_small/multidae-200'\n",
    "modeldir = './models/data_small/multidae-200'\n",
    "\n",
    "rec_metrics = RecMetrics(valid_train, valid_test, model_dir = modeldir, k=100)\n",
    "\n",
    "tb = TensorBoard(log_dir=logdir)"
   ]
  },
  {
   "cell_type": "code",
   "execution_count": 16,
   "metadata": {
    "collapsed": false
   },
   "outputs": [
    {
     "data": {
      "text/plain": [
       "3780"
      ]
     },
     "execution_count": 16,
     "metadata": {},
     "output_type": "execute_result"
    }
   ],
   "source": [
    "gc.collect()"
   ]
  },
  {
   "cell_type": "code",
   "execution_count": 17,
   "metadata": {
    "collapsed": false
   },
   "outputs": [],
   "source": [
    "dae = MultiDAEKeras()\n",
    "model = dae.setup()\n",
    "model.compile(loss=neg_multi_ll, optimizer='adam') ## adam with default lr=1e-3"
   ]
  },
  {
   "cell_type": "code",
   "execution_count": 18,
   "metadata": {
    "collapsed": false
   },
   "outputs": [
    {
     "name": "stdout",
     "output_type": "stream",
     "text": [
      "Epoch 1/15\n",
      "747/747 [==============================] - 188s 251ms/step - loss: 412681.8652\n",
      "NDCG: 0.29255816455989503\n",
      "Recall: 0.40307823997591324\n",
      "Epoch 2/15\n",
      "747/747 [==============================] - 182s 244ms/step - loss: 373923.4830\n",
      "NDCG: 0.32853023114555974\n",
      "Recall: 0.44261870974511736\n",
      "Epoch 3/15\n",
      "747/747 [==============================] - 182s 243ms/step - loss: 366889.5353\n",
      "NDCG: 0.3457002624647591\n",
      "Recall: 0.4615737724554046\n",
      "Epoch 4/15\n",
      "747/747 [==============================] - 185s 247ms/step - loss: 362699.9330\n",
      "NDCG: 0.3566647047552956\n",
      "Recall: 0.47359314935239105\n",
      "Epoch 5/15\n",
      "747/747 [==============================] - 185s 248ms/step - loss: 359624.7168\n",
      "NDCG: 0.36302863588037687\n",
      "Recall: 0.4812133828390846\n",
      "Epoch 6/15\n",
      "747/747 [==============================] - 179s 240ms/step - loss: 357246.8353\n",
      "NDCG: 0.36826633649612417\n",
      "Recall: 0.4874339627713047\n",
      "Epoch 7/15\n",
      "747/747 [==============================] - 180s 240ms/step - loss: 355310.6306\n",
      "NDCG: 0.37086083834996264\n",
      "Recall: 0.49044014556605525\n",
      "Epoch 8/15\n",
      "747/747 [==============================] - 178s 238ms/step - loss: 353822.3008\n",
      "NDCG: 0.372376808553116\n",
      "Recall: 0.49258094639712635\n",
      "Epoch 9/15\n",
      "747/747 [==============================] - 178s 239ms/step - loss: 352526.9589\n",
      "NDCG: 0.37383822355086027\n",
      "Recall: 0.49368813446564375\n",
      "Epoch 10/15\n",
      "747/747 [==============================] - 182s 244ms/step - loss: 351506.6218\n",
      "NDCG: 0.3744415515955367\n",
      "Recall: 0.4954515300331737\n",
      "Epoch 11/15\n",
      "747/747 [==============================] - 183s 245ms/step - loss: 350606.4519\n",
      "NDCG: 0.37474541430506564\n",
      "Recall: 0.49568848095179413\n",
      "Epoch 12/15\n",
      "747/747 [==============================] - 184s 246ms/step - loss: 350021.6529\n",
      "NDCG: 0.3759523768261346\n",
      "Recall: 0.4971689388082104\n",
      "Epoch 13/15\n",
      "747/747 [==============================] - 183s 245ms/step - loss: 349175.5588\n",
      "NDCG: 0.37560933885181763\n",
      "Recall: 0.4963347119301227\n",
      "Epoch 14/15\n",
      "747/747 [==============================] - 185s 247ms/step - loss: 348703.6959\n",
      "NDCG: 0.3760588498212971\n",
      "Recall: 0.49661102441820276\n",
      "Epoch 15/15\n",
      "747/747 [==============================] - 185s 247ms/step - loss: 348324.0127\n",
      "NDCG: 0.3761711041534488\n",
      "Recall: 0.49743463544655303\n"
     ]
    },
    {
     "data": {
      "text/plain": [
       "<keras.callbacks.History at 0x7fe2996ff1d0>"
      ]
     },
     "execution_count": 18,
     "metadata": {},
     "output_type": "execute_result"
    }
   ],
   "source": [
    "batch_size = 500\n",
    "\n",
    "model.fit_generator(data_generator(train, batch_size),\n",
    "                 verbose=1, \n",
    "                 epochs=15,\n",
    "                 steps_per_epoch = train.shape[0]//batch_size,\n",
    "                 callbacks=[rec_metrics, tb])"
   ]
  },
  {
   "cell_type": "code",
   "execution_count": 28,
   "metadata": {
    "collapsed": false
   },
   "outputs": [
    {
     "data": {
      "text/plain": [
       "<matplotlib.text.Text at 0x7fe30e73d978>"
      ]
     },
     "execution_count": 28,
     "metadata": {},
     "output_type": "execute_result"
    },
    {
     "data": {
      "image/png": "[encoded data removed]",
      "text/plain": [
       "<matplotlib.figure.Figure at 0x7fe30c5ebcc0>"
      ]
     },
     "metadata": {},
     "output_type": "display_data"
    }
   ],
   "source": [
    "\n",
    "plt.plot(rec_metrics.ndcg_hist)\n",
    "plt.title('MultiDAE Training - NDCG@100')"
   ]
  }
 ],
 "metadata": {
  "kernelspec": {
   "display_name": "Python 3",
   "language": "python",
   "name": "python3"
  },
  "language_info": {
   "codemirror_mode": {
    "name": "ipython",
    "version": 3
   },
   "file_extension": ".py",
   "mimetype": "text/x-python",
   "name": "python",
   "nbconvert_exporter": "python",
   "pygments_lexer": "ipython3",
   "version": "3.5.4"
  }
 },
 "nbformat": 4,
 "nbformat_minor": 0
}
