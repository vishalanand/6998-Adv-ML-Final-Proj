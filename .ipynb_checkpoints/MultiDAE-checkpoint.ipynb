{
 "cells": [
  {
   "cell_type": "code",
   "execution_count": 41,
   "metadata": {},
   "outputs": [],
   "source": [
    "import keras\n",
    "from keras.layers import Activation, Dense, Input, Flatten, Dropout, Lambda, Softmax\n",
    "from keras.models import Model\n",
    "from keras import regularizers\n",
    "from keras import backend as K\n",
    "import tensorflow as tf\n",
    "\n",
    "import numpy as np\n",
    "from scipy import sparse"
   ]
  },
  {
   "cell_type": "code",
   "execution_count": 3,
   "metadata": {},
   "outputs": [],
   "source": [
    "data = sparse.load_npz(\"raw.npz\")"
   ]
  },
  {
   "cell_type": "code",
   "execution_count": 4,
   "metadata": {},
   "outputs": [],
   "source": [
    "n_playlists = data.shape[0]\n",
    "n_songs = data.shape[1]\n",
    "\n",
    "n_test = int(0.1 * n_playlists)\n",
    "n_val = int(0.1 * n_playlists)\n",
    "\n",
    "playlist_ids = np.random.permutation(n_playlists)\n",
    "\n",
    "test_ids = playlist_ids[:n_test]\n",
    "val_ids = playlist_ids[n_test:n_test+n_val]\n",
    "train_ids = playlist_ids[n_test+n_val:]\n",
    "\n",
    "train_data = data.tocsr()[train_ids]\n",
    "val_data = data.tocsr()[val_ids]\n",
    "test_data = data.tocsr()[test_ids]"
   ]
  },
  {
   "cell_type": "code",
   "execution_count": 42,
   "metadata": {},
   "outputs": [
    {
     "name": "stdout",
     "output_type": "stream",
     "text": [
      "_________________________________________________________________\n",
      "Layer (type)                 Output Shape              Param #   \n",
      "=================================================================\n",
      "dae_input (InputLayer)       (None, 69678)             0         \n",
      "_________________________________________________________________\n",
      "lambda_1 (Lambda)            (None, 69678)             0         \n",
      "_________________________________________________________________\n",
      "dropout_1 (Dropout)          (None, 69678)             0         \n",
      "_________________________________________________________________\n",
      "latent_vector (Dense)        (None, 200)               13935800  \n",
      "=================================================================\n",
      "Total params: 13,935,800\n",
      "Trainable params: 13,935,800\n",
      "Non-trainable params: 0\n",
      "_________________________________________________________________\n"
     ]
    }
   ],
   "source": [
    "K.clear_session()\n",
    "\n",
    "h = 200\n",
    "\n",
    "inputs = Input(shape=(n_songs,), name='dae_input')\n",
    "inputs_normed = Lambda(lambda  x: tf.nn.l2_normalize(x, dim=1))(inputs)\n",
    "x = Dropout(0.5)(inputs_normed)\n",
    "latent = Dense(h, activation='tanh', name='latent_vector', kernel_regularizer=regularizers.l2(0.01))(x)\n",
    "\n",
    "encoder = Model(inputs, latent, name='encoder')\n",
    "encoder.summary()"
   ]
  },
  {
   "cell_type": "code",
   "execution_count": 43,
   "metadata": {},
   "outputs": [
    {
     "name": "stdout",
     "output_type": "stream",
     "text": [
      "_________________________________________________________________\n",
      "Layer (type)                 Output Shape              Param #   \n",
      "=================================================================\n",
      "dae_latent (InputLayer)      (None, 200)               0         \n",
      "_________________________________________________________________\n",
      "dae_output (Dense)           (None, 69678)             14005278  \n",
      "_________________________________________________________________\n",
      "dae_probs (Softmax)          (None, 69678)             0         \n",
      "=================================================================\n",
      "Total params: 14,005,278\n",
      "Trainable params: 14,005,278\n",
      "Non-trainable params: 0\n",
      "_________________________________________________________________\n"
     ]
    }
   ],
   "source": [
    "latent_inputs = Input(shape=(h,), name='dae_latent')\n",
    "\n",
    "logits = Dense(n_songs, name='dae_output', kernel_regularizer=regularizers.l2(0.01))(latent_inputs)\n",
    "probs = Softmax(name='dae_probs')(logits) \n",
    "decoder = Model(latent_inputs, probs, name='decoder')\n",
    "decoder.summary()"
   ]
  },
  {
   "cell_type": "code",
   "execution_count": 47,
   "metadata": {},
   "outputs": [
    {
     "name": "stdout",
     "output_type": "stream",
     "text": [
      "_________________________________________________________________\n",
      "Layer (type)                 Output Shape              Param #   \n",
      "=================================================================\n",
      "dae_input (InputLayer)       (None, 69678)             0         \n",
      "_________________________________________________________________\n",
      "encoder (Model)              (None, 200)               13935800  \n",
      "_________________________________________________________________\n",
      "decoder (Model)              (None, 69678)             14005278  \n",
      "=================================================================\n",
      "Total params: 27,941,078\n",
      "Trainable params: 27,941,078\n",
      "Non-trainable params: 0\n",
      "_________________________________________________________________\n"
     ]
    }
   ],
   "source": [
    "dae = Model(inputs=inputs, outputs=decoder(encoder(inputs)), name='autoencoder')\n",
    "dae.summary()\n",
    "\n",
    "dae.compile(loss='categorical_crossentropy', optimizer='adam')"
   ]
  },
  {
   "cell_type": "code",
   "execution_count": null,
   "metadata": {},
   "outputs": [
    {
     "name": "stdout",
     "output_type": "stream",
     "text": [
      "Train on 314992 samples, validate on 39374 samples\n",
      "Epoch 1/30\n",
      " 42000/314992 [===>..........................] - ETA: 55:44 - loss: 1052.4601"
     ]
    }
   ],
   "source": [
    "dae.fit(train_data,\n",
    "    train_data,\n",
    "    validation_data=(val_data, val_data),\n",
    "    epochs=30,\n",
    "    batch_size=500)"
   ]
  }
 ],
 "metadata": {
  "kernelspec": {
   "display_name": "Python [conda env:rl-env]",
   "language": "python",
   "name": "conda-env-rl-env-py"
  },
  "language_info": {
   "codemirror_mode": {
    "name": "ipython",
    "version": 3
   },
   "file_extension": ".py",
   "mimetype": "text/x-python",
   "name": "python",
   "nbconvert_exporter": "python",
   "pygments_lexer": "ipython3",
   "version": "3.6.4"
  }
 },
 "nbformat": 4,
 "nbformat_minor": 2
}
