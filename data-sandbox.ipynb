{
 "cells": [
  {
   "cell_type": "code",
   "execution_count": 78,
   "metadata": {},
   "outputs": [],
   "source": [
    "import json\n",
    "import time\n",
    "import os\n",
    "import collections"
   ]
  },
  {
   "cell_type": "code",
   "execution_count": 33,
   "metadata": {
    "scrolled": true
   },
   "outputs": [],
   "source": [
    "track_counts = collections.Counter()\n",
    "\n",
    "data_path = '/Users/kwu/data/recsys2018/mpd.v1/data'\n",
    "\n",
    "for fname in os.listdir(data_path):\n",
    "    data = json.loads(open(os.path.join(data_path, fname)).read())\n",
    "    \n",
    "    for playlist in data['playlists']:\n",
    "        for track in playlist['tracks']:\n",
    "            track_id = track['track_uri'].split(':')[-1]\n",
    "            track_counts[track_id] += 1  \n",
    "            \n",
    "with open('track_counts.json', 'w') as f:\n",
    "    json.dump(dict(track_counts), f)"
   ]
  },
  {
   "cell_type": "code",
   "execution_count": 56,
   "metadata": {},
   "outputs": [],
   "source": [
    "track_counts = collections.Counter(json.loads(open('track_counts.json').read()))"
   ]
  },
  {
   "cell_type": "code",
   "execution_count": 59,
   "metadata": {},
   "outputs": [],
   "source": [
    "track_threshold = 100\n",
    "common_track_counts =  collections.Counter({k:c for k, c in track_counts.items() if c > track_threshold})"
   ]
  },
  {
   "cell_type": "code",
   "execution_count": 68,
   "metadata": {},
   "outputs": [],
   "source": [
    "valid_track_ids = set(common_track_counts.keys())\n",
    "track_id_map = dict(zip(valid_track_ids, range(len(valid_track_ids))))\n",
    "rev_track_id_map = dict(zip(track_id_map.values(), track_id_map.keys()))"
   ]
  },
  {
   "cell_type": "code",
   "execution_count": 79,
   "metadata": {},
   "outputs": [
    {
     "name": "stdout",
     "output_type": "stream",
     "text": [
      "Time elapsed: 419.1s\n"
     ]
    }
   ],
   "source": [
    "playlist_threshold = 50\n",
    "playlist_count = 0\n",
    "\n",
    "playlist_id_map = {}\n",
    "\n",
    "row_inds = []\n",
    "col_inds = []\n",
    "\n",
    "start = time.time()\n",
    "\n",
    "for fname in os.listdir(data_path):\n",
    "    data = json.loads(open(os.path.join(data_path, fname)).read())\n",
    "    for playlist in data['playlists']:\n",
    "        valid_tracks = [track_id_map[track['track_uri'].split(':')[-1]] for track in playlist['tracks'] if track['track_uri'].split(':')[-1] in valid_track_ids]\n",
    "        if len(valid_tracks) > playlist_threshold:\n",
    "            \n",
    "            playlist_id_map[playlist_count] = playlist['pid']\n",
    "            row_inds += [playlist_count] * len(valid_tracks)\n",
    "            col_inds += valid_tracks\n",
    "            \n",
    "            playlist_count += 1\n",
    "            \n",
    "end = time.time()\n",
    "print (\"Time elapsed: {}s\".format(round(end-start, 1)))"
   ]
  },
  {
   "cell_type": "code",
   "execution_count": 81,
   "metadata": {},
   "outputs": [
    {
     "name": "stdout",
     "output_type": "stream",
     "text": [
      "39106490\n",
      "39106490\n"
     ]
    }
   ],
   "source": [
    "from scipy import sparse\n",
    "\n",
    "data = sparse.coo_matrix(([1] * len(row_inds), ))"
   ]
  }
 ],
 "metadata": {
  "kernelspec": {
   "display_name": "Python [conda env:rl-env]",
   "language": "python",
   "name": "conda-env-rl-env-py"
  },
  "language_info": {
   "codemirror_mode": {
    "name": "ipython",
    "version": 3
   },
   "file_extension": ".py",
   "mimetype": "text/x-python",
   "name": "python",
   "nbconvert_exporter": "python",
   "pygments_lexer": "ipython3",
   "version": "3.6.4"
  }
 },
 "nbformat": 4,
 "nbformat_minor": 2
}
