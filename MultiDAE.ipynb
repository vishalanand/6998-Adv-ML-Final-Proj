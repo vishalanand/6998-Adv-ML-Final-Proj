{
 "cells": [
  {
   "cell_type": "code",
   "execution_count": 1,
   "metadata": {},
   "outputs": [
    {
     "name": "stderr",
     "output_type": "stream",
     "text": [
      "/anaconda3/envs/rl-env/lib/python3.6/site-packages/h5py/__init__.py:36: FutureWarning: Conversion of the second argument of issubdtype from `float` to `np.floating` is deprecated. In future, it will be treated as `np.float64 == np.dtype(float).type`.\n",
      "  from ._conv import register_converters as _register_converters\n",
      "Using TensorFlow backend.\n"
     ]
    }
   ],
   "source": [
    "import keras\n",
    "from keras.layers import Activation, Dense, Input, Flatten, Dropout, Lambda, Softmax\n",
    "from keras.models import Model\n",
    "from keras import regularizers\n",
    "from keras import backend as K\n",
    "import tensorflow as tf\n",
    "\n",
    "import numpy as np\n",
    "from scipy import sparse"
   ]
  },
  {
   "cell_type": "code",
   "execution_count": 2,
   "metadata": {},
   "outputs": [],
   "source": [
    "data = sparse.load_npz('raw_sparse.npz')"
   ]
  },
  {
   "cell_type": "code",
   "execution_count": 3,
   "metadata": {},
   "outputs": [
    {
     "name": "stderr",
     "output_type": "stream",
     "text": [
      "/anaconda3/envs/rl-env/lib/python3.6/site-packages/numpy/lib/arraysetops.py:472: FutureWarning: elementwise comparison failed; returning scalar instead, but in the future will perform elementwise comparison\n",
      "  mask |= (ar1 == a)\n"
     ]
    }
   ],
   "source": [
    "import pandas as pd\n",
    "\n",
    "df = pd.read_csv('raw_df.csv', index_col=0)"
   ]
  },
  {
   "cell_type": "code",
   "execution_count": 4,
   "metadata": {},
   "outputs": [
    {
     "data": {
      "text/html": [
       "<div>\n",
       "<style scoped>\n",
       "    .dataframe tbody tr th:only-of-type {\n",
       "        vertical-align: middle;\n",
       "    }\n",
       "\n",
       "    .dataframe tbody tr th {\n",
       "        vertical-align: top;\n",
       "    }\n",
       "\n",
       "    .dataframe thead th {\n",
       "        text-align: right;\n",
       "    }\n",
       "</style>\n",
       "<table border=\"1\" class=\"dataframe\">\n",
       "  <thead>\n",
       "    <tr style=\"text-align: right;\">\n",
       "      <th></th>\n",
       "      <th>user_id</th>\n",
       "      <th>track_id</th>\n",
       "    </tr>\n",
       "  </thead>\n",
       "  <tbody>\n",
       "    <tr>\n",
       "      <th>0</th>\n",
       "      <td>0</td>\n",
       "      <td>38738</td>\n",
       "    </tr>\n",
       "    <tr>\n",
       "      <th>1</th>\n",
       "      <td>0</td>\n",
       "      <td>14546</td>\n",
       "    </tr>\n",
       "    <tr>\n",
       "      <th>2</th>\n",
       "      <td>0</td>\n",
       "      <td>23065</td>\n",
       "    </tr>\n",
       "    <tr>\n",
       "      <th>3</th>\n",
       "      <td>0</td>\n",
       "      <td>39808</td>\n",
       "    </tr>\n",
       "    <tr>\n",
       "      <th>4</th>\n",
       "      <td>0</td>\n",
       "      <td>53221</td>\n",
       "    </tr>\n",
       "  </tbody>\n",
       "</table>\n",
       "</div>"
      ],
      "text/plain": [
       "   user_id  track_id\n",
       "0        0     38738\n",
       "1        0     14546\n",
       "2        0     23065\n",
       "3        0     39808\n",
       "4        0     53221"
      ]
     },
     "execution_count": 4,
     "metadata": {},
     "output_type": "execute_result"
    }
   ],
   "source": [
    "df.head()"
   ]
  },
  {
   "cell_type": "code",
   "execution_count": 5,
   "metadata": {},
   "outputs": [],
   "source": [
    "n_playlists = data.shape[0]\n",
    "n_songs = data.shape[1]\n",
    "\n",
    "n_test = 10000\n",
    "n_val = 10000\n",
    "\n",
    "playlist_ids = np.random.permutation(n_playlists)\n",
    "\n",
    "test_ids = playlist_ids[:n_test]\n",
    "val_ids = playlist_ids[n_test:n_test+n_val]\n",
    "train_ids = playlist_ids[n_test+n_val:]\n",
    "\n",
    "train_data = data.tocsr()[train_ids]\n"
   ]
  },
  {
   "cell_type": "code",
   "execution_count": 6,
   "metadata": {},
   "outputs": [],
   "source": [
    "val_df = df.loc[df.user_id.isin(val_ids)]\n",
    "\n",
    "val_df_test_inds = []\n",
    "for user_id, group in val_df.groupby(['user_id']):\n",
    "    if len(group.index) > 5:\n",
    "        test_inds = np.random.choice(group.index, int(0.2 * len(group.index)), replace=False)\n",
    "        val_df_test_inds += list(test_inds)\n",
    "\n",
    "val_df_train_inds = list(set(val_df.index) - set(val_df_test_inds))\n",
    "\n",
    "val_test_df = df.iloc[val_df_test_inds]\n",
    "val_train_df = df.iloc[val_df_train_inds]"
   ]
  },
  {
   "cell_type": "code",
   "execution_count": 7,
   "metadata": {},
   "outputs": [
    {
     "data": {
      "text/plain": [
       "10000"
      ]
     },
     "execution_count": 7,
     "metadata": {},
     "output_type": "execute_result"
    }
   ],
   "source": [
    "len(val_test_df.user_id.unique())"
   ]
  },
  {
   "cell_type": "code",
   "execution_count": 8,
   "metadata": {},
   "outputs": [
    {
     "name": "stdout",
     "output_type": "stream",
     "text": [
      "994983\n",
      "194963\n",
      "800020\n",
      "39106490\n"
     ]
    }
   ],
   "source": [
    "print (len(val_df))\n",
    "print (len(val_test_df))\n",
    "print (len(val_train_df))\n",
    "print (len(df))"
   ]
  },
  {
   "cell_type": "code",
   "execution_count": 9,
   "metadata": {},
   "outputs": [],
   "source": [
    "val_train_data = sparse.coo_matrix(([1] * len(val_train_df), (val_train_df.user_id, val_train_df.track_id))).tocsr()\n",
    "val_test_data = sparse.coo_matrix(([1] * len(val_test_df), (val_test_df.user_id, val_test_df.track_id))).tocsr()"
   ]
  },
  {
   "cell_type": "code",
   "execution_count": 10,
   "metadata": {},
   "outputs": [],
   "source": [
    "val_train_data = val_train_data[val_train_data.getnnz(1)>0]\n",
    "val_test_data = val_test_data[val_test_data.getnnz(1)>0]"
   ]
  },
  {
   "cell_type": "code",
   "execution_count": 11,
   "metadata": {},
   "outputs": [],
   "source": [
    "train_data = train_data[train_data.getnnz(1)>0]"
   ]
  },
  {
   "cell_type": "code",
   "execution_count": 12,
   "metadata": {},
   "outputs": [
    {
     "data": {
      "text/plain": [
       "(373740, 69678)"
      ]
     },
     "execution_count": 12,
     "metadata": {},
     "output_type": "execute_result"
    }
   ],
   "source": [
    "train_data.shape"
   ]
  },
  {
   "cell_type": "code",
   "execution_count": 13,
   "metadata": {},
   "outputs": [],
   "source": [
    "del df"
   ]
  },
  {
   "cell_type": "code",
   "execution_count": 14,
   "metadata": {},
   "outputs": [
    {
     "name": "stdout",
     "output_type": "stream",
     "text": [
      "_________________________________________________________________\n",
      "Layer (type)                 Output Shape              Param #   \n",
      "=================================================================\n",
      "dae_input (InputLayer)       (None, 69678)             0         \n",
      "_________________________________________________________________\n",
      "lambda_1 (Lambda)            (None, 69678)             0         \n",
      "_________________________________________________________________\n",
      "dropout_1 (Dropout)          (None, 69678)             0         \n",
      "_________________________________________________________________\n",
      "latent_vector (Dense)        (None, 200)               13935800  \n",
      "=================================================================\n",
      "Total params: 13,935,800\n",
      "Trainable params: 13,935,800\n",
      "Non-trainable params: 0\n",
      "_________________________________________________________________\n"
     ]
    }
   ],
   "source": [
    "K.clear_session()\n",
    "\n",
    "h = 200\n",
    "\n",
    "inputs = Input(shape=(n_songs,), name='dae_input')\n",
    "inputs_normed = Lambda(lambda  x: tf.nn.l2_normalize(x, dim=1))(inputs)\n",
    "x = Dropout(0.5)(inputs_normed)\n",
    "latent = Dense(h, activation='tanh', name='latent_vector', kernel_regularizer=regularizers.l2(0.01))(x)\n",
    "\n",
    "encoder = Model(inputs, latent, name='encoder')\n",
    "encoder.summary()"
   ]
  },
  {
   "cell_type": "code",
   "execution_count": 15,
   "metadata": {},
   "outputs": [
    {
     "name": "stdout",
     "output_type": "stream",
     "text": [
      "_________________________________________________________________\n",
      "Layer (type)                 Output Shape              Param #   \n",
      "=================================================================\n",
      "dae_latent (InputLayer)      (None, 200)               0         \n",
      "_________________________________________________________________\n",
      "dae_output (Dense)           (None, 69678)             14005278  \n",
      "_________________________________________________________________\n",
      "dae_probs (Softmax)          (None, 69678)             0         \n",
      "=================================================================\n",
      "Total params: 14,005,278\n",
      "Trainable params: 14,005,278\n",
      "Non-trainable params: 0\n",
      "_________________________________________________________________\n"
     ]
    }
   ],
   "source": [
    "latent_inputs = Input(shape=(h,), name='dae_latent')\n",
    "\n",
    "logits = Dense(n_songs, name='dae_output', kernel_regularizer=regularizers.l2(0.01))(latent_inputs)\n",
    "probs = Softmax(name='dae_probs')(logits) \n",
    "decoder = Model(latent_inputs, probs, name='decoder')\n",
    "decoder.summary()"
   ]
  },
  {
   "cell_type": "code",
   "execution_count": 35,
   "metadata": {},
   "outputs": [
    {
     "name": "stdout",
     "output_type": "stream",
     "text": [
      "_________________________________________________________________\n",
      "Layer (type)                 Output Shape              Param #   \n",
      "=================================================================\n",
      "dae_input (InputLayer)       (None, 69678)             0         \n",
      "_________________________________________________________________\n",
      "encoder (Model)              (None, 200)               13935800  \n",
      "_________________________________________________________________\n",
      "decoder (Model)              (None, 69678)             14005278  \n",
      "=================================================================\n",
      "Total params: 27,941,078\n",
      "Trainable params: 27,941,078\n",
      "Non-trainable params: 0\n",
      "_________________________________________________________________\n"
     ]
    }
   ],
   "source": [
    "dae = Model(inputs=inputs, outputs=decoder(encoder(inputs)), name='autoencoder')\n",
    "dae.summary()\n",
    "\n",
    "dae.compile(loss='categorical_crossentropy', optimizer='adam')"
   ]
  },
  {
   "cell_type": "code",
   "execution_count": 36,
   "metadata": {},
   "outputs": [],
   "source": [
    "from sklearn.utils import shuffle\n",
    "\n",
    "def data_generator(data, batch_size):\n",
    "    N = data.shape[0]\n",
    "    while True:\n",
    "        data = shuffle(data)\n",
    "        for i in range(0, N, batch_size):\n",
    "            batch = data[i:i+batch_size]\n",
    "            yield batch.todense(), batch.todense()"
   ]
  },
  {
   "cell_type": "code",
   "execution_count": 37,
   "metadata": {},
   "outputs": [],
   "source": [
    "from keras.callbacks import Callback\n",
    "\n",
    "def calculate_recall(preds, test, batch_size=100, R=20):\n",
    "    N = test.shape[0]\n",
    "    M = test.shape[1]\n",
    "    total_recall = 0.\n",
    "    for i in range(0, N, batch_size):\n",
    "        test_batch = test[i:i+batch_size]\n",
    "        pred_batch = preds[i:i+batch_size]\n",
    "        \n",
    "        dense_test = test_batch.todense()\n",
    "        \n",
    "        test_total_items = np.sum(dense_test, axis=1)\n",
    "        ranked_items = np.argsort(pred_batch, axis=1)\n",
    "         \n",
    "        recall = np.expand_dims(np.sum(np.where(ranked_items >= M-R, dense_test, 0), axis=1), 1)/np.minimum(test_total_items, 20)\n",
    "        total_recall += np.sum(recall)\n",
    "       \n",
    "    return total_recall/N\n",
    "\n",
    "class RecMetrics(Callback):\n",
    "    \n",
    "    def __init__(self, val_train_data, val_test_data):\n",
    "        self.val_train_data = val_train_data\n",
    "        self.val_test_data = val_test_data\n",
    "        return\n",
    "    \n",
    "    def on_train_begin(self, logs={}):\n",
    "        self.ndcgs = []\n",
    "        return\n",
    " \n",
    "    def on_train_end(self, logs={}):\n",
    "        return\n",
    " \n",
    "    def on_epoch_begin(self, epoch, logs={}):\n",
    "        return\n",
    " \n",
    "    def on_epoch_end(self, epoch, logs={}):\n",
    "        preds = np.asarray(self.model.predict(val_train_data))\n",
    "        recall = calculate_recall(preds, self.val_test_data)\n",
    "        print (\"Recall: {}\".format(recall))\n",
    "        return\n",
    " \n",
    "    def on_batch_begin(self, batch, logs={}):\n",
    "        return\n",
    " \n",
    "    def on_batch_end(self, batch, logs={}):\n",
    "        return\n",
    "    \n",
    "rmetrics = RecMetrics(val_train_data, val_test_data)"
   ]
  },
  {
   "cell_type": "code",
   "execution_count": null,
   "metadata": {},
   "outputs": [
    {
     "name": "stdout",
     "output_type": "stream",
     "text": [
      "Epoch 1/30\n",
      "320/320 [==============================] - 10s 32ms/step - loss: 1172.6867\n",
      "Recall: 0.0002399657652289232\n",
      "Epoch 2/30\n",
      "320/320 [==============================] - 10s 31ms/step - loss: 1154.9950\n",
      "Recall: 0.000331331519357835\n",
      "Epoch 3/30\n",
      "320/320 [==============================] - 10s 31ms/step - loss: 1130.3298\n"
     ]
    }
   ],
   "source": [
    "dae.fit(x=train_data[0:320], y=train_data[0:320], \n",
    "        callbacks=[rmetrics],\n",
    "        epochs=30)"
   ]
  }
 ],
 "metadata": {
  "kernelspec": {
   "display_name": "Python [conda env:rl-env]",
   "language": "python",
   "name": "conda-env-rl-env-py"
  },
  "language_info": {
   "codemirror_mode": {
    "name": "ipython",
    "version": 3
   },
   "file_extension": ".py",
   "mimetype": "text/x-python",
   "name": "python",
   "nbconvert_exporter": "python",
   "pygments_lexer": "ipython3",
   "version": "3.6.4"
  }
 },
 "nbformat": 4,
 "nbformat_minor": 2
}
