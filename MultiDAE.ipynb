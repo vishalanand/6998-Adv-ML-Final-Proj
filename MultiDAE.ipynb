{
 "cells": [
  {
   "cell_type": "code",
   "execution_count": 1,
   "metadata": {},
   "outputs": [
    {
     "name": "stderr",
     "output_type": "stream",
     "text": [
      "/anaconda3/envs/rl-env/lib/python3.6/site-packages/h5py/__init__.py:36: FutureWarning: Conversion of the second argument of issubdtype from `float` to `np.floating` is deprecated. In future, it will be treated as `np.float64 == np.dtype(float).type`.\n",
      "  from ._conv import register_converters as _register_converters\n",
      "Using TensorFlow backend.\n"
     ]
    }
   ],
   "source": [
    "import keras\n",
    "from keras.layers import Activation, Dense, Input, Flatten, Dropout, Lambda, Softmax\n",
    "from keras.models import Model\n",
    "from keras import regularizers\n",
    "from keras import backend as K\n",
    "import tensorflow as tf\n",
    "\n",
    "import numpy as np\n",
    "from scipy import sparse"
   ]
  },
  {
   "cell_type": "code",
   "execution_count": 2,
   "metadata": {},
   "outputs": [],
   "source": [
    "data = sparse.load_npz('raw_sparse.npz')"
   ]
  },
  {
   "cell_type": "code",
   "execution_count": 22,
   "metadata": {},
   "outputs": [
    {
     "name": "stderr",
     "output_type": "stream",
     "text": [
      "/anaconda3/envs/rl-env/lib/python3.6/site-packages/numpy/lib/arraysetops.py:472: FutureWarning: elementwise comparison failed; returning scalar instead, but in the future will perform elementwise comparison\n",
      "  mask |= (ar1 == a)\n"
     ]
    }
   ],
   "source": [
    "import pandas as pd\n",
    "\n",
    "df = pd.read_csv('raw_df.csv', index_col=0)"
   ]
  },
  {
   "cell_type": "code",
   "execution_count": 23,
   "metadata": {},
   "outputs": [
    {
     "data": {
      "text/html": [
       "<div>\n",
       "<style scoped>\n",
       "    .dataframe tbody tr th:only-of-type {\n",
       "        vertical-align: middle;\n",
       "    }\n",
       "\n",
       "    .dataframe tbody tr th {\n",
       "        vertical-align: top;\n",
       "    }\n",
       "\n",
       "    .dataframe thead th {\n",
       "        text-align: right;\n",
       "    }\n",
       "</style>\n",
       "<table border=\"1\" class=\"dataframe\">\n",
       "  <thead>\n",
       "    <tr style=\"text-align: right;\">\n",
       "      <th></th>\n",
       "      <th>user_id</th>\n",
       "      <th>track_id</th>\n",
       "    </tr>\n",
       "  </thead>\n",
       "  <tbody>\n",
       "    <tr>\n",
       "      <th>0</th>\n",
       "      <td>0</td>\n",
       "      <td>38738</td>\n",
       "    </tr>\n",
       "    <tr>\n",
       "      <th>1</th>\n",
       "      <td>0</td>\n",
       "      <td>14546</td>\n",
       "    </tr>\n",
       "    <tr>\n",
       "      <th>2</th>\n",
       "      <td>0</td>\n",
       "      <td>23065</td>\n",
       "    </tr>\n",
       "    <tr>\n",
       "      <th>3</th>\n",
       "      <td>0</td>\n",
       "      <td>39808</td>\n",
       "    </tr>\n",
       "    <tr>\n",
       "      <th>4</th>\n",
       "      <td>0</td>\n",
       "      <td>53221</td>\n",
       "    </tr>\n",
       "  </tbody>\n",
       "</table>\n",
       "</div>"
      ],
      "text/plain": [
       "   user_id  track_id\n",
       "0        0     38738\n",
       "1        0     14546\n",
       "2        0     23065\n",
       "3        0     39808\n",
       "4        0     53221"
      ]
     },
     "execution_count": 23,
     "metadata": {},
     "output_type": "execute_result"
    }
   ],
   "source": [
    "df.head()"
   ]
  },
  {
   "cell_type": "code",
   "execution_count": 24,
   "metadata": {},
   "outputs": [],
   "source": [
    "n_playlists = data.shape[0]\n",
    "n_songs = data.shape[1]\n",
    "\n",
    "n_test = 10000\n",
    "n_val = 10000\n",
    "\n",
    "playlist_ids = np.random.permutation(n_playlists)\n",
    "\n",
    "test_ids = playlist_ids[:n_test]\n",
    "val_ids = playlist_ids[n_test:n_test+n_val]\n",
    "train_ids = playlist_ids[n_test+n_val:]\n",
    "\n",
    "train_data = data.tocsr()[train_ids]\n"
   ]
  },
  {
   "cell_type": "code",
   "execution_count": 25,
   "metadata": {},
   "outputs": [],
   "source": [
    "val_df = df.loc[df.user_id.isin(val_ids)]\n",
    "\n",
    "val_df_test_inds = []\n",
    "for user_id, group in val_df.groupby(['user_id']):\n",
    "    if len(group.index) > 5:\n",
    "        test_inds = np.random.choice(group.index, int(0.2 * len(group.index)), replace=False)\n",
    "        val_df_test_inds += list(test_inds)\n",
    "\n",
    "val_df_train_inds = list(set(val_df.index) - set(val_df_test_inds))\n",
    "\n",
    "val_test_df = df.iloc[val_df_test_inds]\n",
    "val_train_df = df.iloc[val_df_train_inds]"
   ]
  },
  {
   "cell_type": "code",
   "execution_count": null,
   "metadata": {},
   "outputs": [],
   "source": [
    "len(val_test_df.user_id.unique())"
   ]
  },
  {
   "cell_type": "code",
   "execution_count": 26,
   "metadata": {},
   "outputs": [
    {
     "data": {
      "text/plain": [
       "(803025, 2)"
      ]
     },
     "execution_count": 26,
     "metadata": {},
     "output_type": "execute_result"
    }
   ],
   "source": [
    "val_train_df.shape"
   ]
  },
  {
   "cell_type": "code",
   "execution_count": 8,
   "metadata": {},
   "outputs": [
    {
     "name": "stdout",
     "output_type": "stream",
     "text": [
      "996537\n",
      "195299\n",
      "801238\n",
      "39106490\n"
     ]
    }
   ],
   "source": [
    "print (len(val_df))\n",
    "print (len(val_test_df))\n",
    "print (len(val_train_df))\n",
    "print (len(df))"
   ]
  },
  {
   "cell_type": "code",
   "execution_count": 27,
   "metadata": {},
   "outputs": [],
   "source": [
    "val_train_data = sparse.coo_matrix(([1] * len(val_train_df), (val_train_df.user_id, val_train_df.track_id))).tocsr()\n",
    "val_test_data = sparse.coo_matrix(([1] * len(val_test_df), (val_test_df.user_id, val_test_df.track_id))).tocsr()"
   ]
  },
  {
   "cell_type": "code",
   "execution_count": 28,
   "metadata": {},
   "outputs": [],
   "source": [
    "val_train_data = val_train_data[val_train_data.getnnz(1)>0]\n",
    "val_test_data = val_test_data[val_test_data.getnnz(1)>0]"
   ]
  },
  {
   "cell_type": "code",
   "execution_count": 29,
   "metadata": {},
   "outputs": [],
   "source": [
    "train_data = train_data[train_data.getnnz(1)>0]"
   ]
  },
  {
   "cell_type": "code",
   "execution_count": 32,
   "metadata": {},
   "outputs": [
    {
     "data": {
      "text/plain": [
       "(10000, 69678)"
      ]
     },
     "execution_count": 32,
     "metadata": {},
     "output_type": "execute_result"
    }
   ],
   "source": [
    "val_test_data.shape"
   ]
  },
  {
   "cell_type": "code",
   "execution_count": 33,
   "metadata": {},
   "outputs": [],
   "source": [
    "del df"
   ]
  },
  {
   "cell_type": "code",
   "execution_count": 34,
   "metadata": {},
   "outputs": [
    {
     "name": "stdout",
     "output_type": "stream",
     "text": [
      "_________________________________________________________________\n",
      "Layer (type)                 Output Shape              Param #   \n",
      "=================================================================\n",
      "dae_input (InputLayer)       (None, 69678)             0         \n",
      "_________________________________________________________________\n",
      "lambda_1 (Lambda)            (None, 69678)             0         \n",
      "_________________________________________________________________\n",
      "dropout_1 (Dropout)          (None, 69678)             0         \n",
      "_________________________________________________________________\n",
      "latent_vector (Dense)        (None, 200)               13935800  \n",
      "=================================================================\n",
      "Total params: 13,935,800\n",
      "Trainable params: 13,935,800\n",
      "Non-trainable params: 0\n",
      "_________________________________________________________________\n"
     ]
    }
   ],
   "source": [
    "K.clear_session()\n",
    "\n",
    "h = 200\n",
    "\n",
    "inputs = Input(shape=(n_songs,), name='dae_input')\n",
    "inputs_normed = Lambda(lambda  x: tf.nn.l2_normalize(x, dim=1))(inputs)\n",
    "x = Dropout(0.5)(inputs_normed)\n",
    "latent = Dense(h, activation='tanh', name='latent_vector', kernel_regularizer=regularizers.l2(0.01))(x)\n",
    "\n",
    "encoder = Model(inputs, latent, name='encoder')\n",
    "encoder.summary()"
   ]
  },
  {
   "cell_type": "code",
   "execution_count": 35,
   "metadata": {},
   "outputs": [
    {
     "name": "stdout",
     "output_type": "stream",
     "text": [
      "_________________________________________________________________\n",
      "Layer (type)                 Output Shape              Param #   \n",
      "=================================================================\n",
      "dae_latent (InputLayer)      (None, 200)               0         \n",
      "_________________________________________________________________\n",
      "dae_output (Dense)           (None, 69678)             14005278  \n",
      "_________________________________________________________________\n",
      "dae_probs (Softmax)          (None, 69678)             0         \n",
      "=================================================================\n",
      "Total params: 14,005,278\n",
      "Trainable params: 14,005,278\n",
      "Non-trainable params: 0\n",
      "_________________________________________________________________\n"
     ]
    }
   ],
   "source": [
    "latent_inputs = Input(shape=(h,), name='dae_latent')\n",
    "\n",
    "logits = Dense(n_songs, name='dae_output', kernel_regularizer=regularizers.l2(0.01))(latent_inputs)\n",
    "probs = Softmax(name='dae_probs')(logits) \n",
    "decoder = Model(latent_inputs, probs, name='decoder')\n",
    "decoder.summary()"
   ]
  },
  {
   "cell_type": "code",
   "execution_count": 36,
   "metadata": {},
   "outputs": [
    {
     "name": "stdout",
     "output_type": "stream",
     "text": [
      "_________________________________________________________________\n",
      "Layer (type)                 Output Shape              Param #   \n",
      "=================================================================\n",
      "dae_input (InputLayer)       (None, 69678)             0         \n",
      "_________________________________________________________________\n",
      "encoder (Model)              (None, 200)               13935800  \n",
      "_________________________________________________________________\n",
      "decoder (Model)              (None, 69678)             14005278  \n",
      "=================================================================\n",
      "Total params: 27,941,078\n",
      "Trainable params: 27,941,078\n",
      "Non-trainable params: 0\n",
      "_________________________________________________________________\n"
     ]
    }
   ],
   "source": [
    "dae = Model(inputs=inputs, outputs=decoder(encoder(inputs)), name='autoencoder')\n",
    "dae.summary()\n",
    "\n",
    "dae.compile(loss='categorical_crossentropy', optimizer='adam')"
   ]
  },
  {
   "cell_type": "code",
   "execution_count": 37,
   "metadata": {},
   "outputs": [],
   "source": [
    "from sklearn.utils import shuffle\n",
    "\n",
    "def data_generator(data, batch_size):\n",
    "    N = data.shape[0]\n",
    "    while True:\n",
    "        data = shuffle(data)\n",
    "        for i in range(0, N, batch_size):\n",
    "            batch = data[i:i+batch_size]\n",
    "            yield batch.todense(), batch.todense()"
   ]
  },
  {
   "cell_type": "code",
   "execution_count": 38,
   "metadata": {},
   "outputs": [],
   "source": [
    "from keras.callbacks import Callback\n",
    "\n",
    "# def calculate_recall(preds, test, batch_size=100, R=20):\n",
    "#     N = test.shape[0]\n",
    "#     M = test.shape[1]\n",
    "#     total_recall = 0.\n",
    "#     for i in range(0, N, batch_size):\n",
    "#         test_batch = test[i:i+batch_size]\n",
    "#         pred_batch = preds[i:i+batch_size]\n",
    "        \n",
    "#         dense_test = test_batch.todense()\n",
    "        \n",
    "#         test_total_items = np.sum(dense_test, axis=1)\n",
    "#         ranked_items = np.argsort(pred_batch, axis=1)\n",
    "        \n",
    "#         recall = np.expand_dims(np.sum(np.where(ranked_items >= M-R, dense_test, 0), axis=1), 1)/np.minimum(test_total_items, 20)\n",
    "#         total_recall += np.sum(recall)\n",
    "       \n",
    "#     return total_recall/N\n",
    "\n",
    "\n",
    "def calculate_recall_ndcg(preds, test, batch_size=100, R=20):\n",
    "    N = test.shape[0]\n",
    "    M = test.shape[1]\n",
    "    total_recall = 0.\n",
    "    \n",
    "    ndcg = np.zeros(test.shape[0], dtype='float32')\n",
    "    \n",
    "    for i in range(0, N, batch_size):\n",
    "        test_batch = test[i:i+batch_size]\n",
    "        pred_batch = preds[i:i+batch_size]\n",
    "        \n",
    "        dense_test = test_batch.todense()\n",
    "        \n",
    "        test_total_items = np.sum(dense_test, axis=1)\n",
    "        ranked_items = np.argsort(pred_batch, axis=1)\n",
    "        \n",
    "        recall = np.expand_dims(np.sum(np.where(ranked_items >= M-R, dense_test, 0), axis=1), 1)/np.minimum(test_total_items, 20)\n",
    "        total_recall += np.sum(recall)\n",
    "        \n",
    "        ranks = np.where(ranked_items >= M-R, M - ranked_items , 0)\n",
    "        matches = np.where(ranked_items >= M-R, dense_test, 0)\n",
    "        dcg = np.sum(np.divide(matches, np.log(ranks + 1), out=np.zeros_like(matches, dtype='float32'), where=ranks!=0), axis=1)\n",
    "       \n",
    "        ndcg[i:i+batch_size] = dcg\n",
    "    \n",
    "    ndcg = ndcg/np.max(ndcg)\n",
    "    total_ndcg = np.sum(ndcg)\n",
    "    \n",
    "    return total_recall/N, total_ndcg/N\n",
    "\n",
    "\n",
    "\n",
    "class RecMetrics(Callback):\n",
    "    \n",
    "    def __init__(self, val_train_data, val_test_data):\n",
    "        self.val_train_data = val_train_data\n",
    "        self.val_test_data = val_test_data\n",
    "        return\n",
    "    \n",
    "    def on_train_begin(self, logs={}):\n",
    "        self.ndcgs = []\n",
    "        return\n",
    " \n",
    "    def on_train_end(self, logs={}):\n",
    "        return\n",
    " \n",
    "    def on_epoch_begin(self, epoch, logs={}):\n",
    "        return\n",
    " \n",
    "    def on_epoch_end(self, epoch, logs={}):\n",
    "        preds = np.asarray(self.model.predict(val_train_data))\n",
    "        recall, ndcg = calculate_recall_ndcg(preds, self.val_test_data)\n",
    "        print (\"Recall: {}\".format(recall))\n",
    "        print (\"NDCG: {}\".format(recall))\n",
    "        return\n",
    " \n",
    "    def on_batch_begin(self, batch, logs={}):\n",
    "        return\n",
    " \n",
    "    def on_batch_end(self, batch, logs={}):\n",
    "        return\n",
    "    \n",
    "rmetrics = RecMetrics(val_train_data, val_test_data)"
   ]
  },
  {
   "cell_type": "code",
   "execution_count": 43,
   "metadata": {},
   "outputs": [
    {
     "name": "stdout",
     "output_type": "stream",
     "text": [
      "Epoch 1/30\n",
      "64000/64000 [==============================] - 1218s 19ms/step - loss: 991.3249\n",
      "Recall: 0.00033171350708115406\n",
      "NDCG: 0.00033171350708115406\n",
      "Epoch 2/30\n",
      "64000/64000 [==============================] - 1283s 20ms/step - loss: 977.2550\n",
      "Recall: 0.0003461392159611974\n",
      "NDCG: 0.0003461392159611974\n",
      "Epoch 3/30\n",
      "64000/64000 [==============================] - 1292s 20ms/step - loss: 973.6535\n",
      "Recall: 0.00034985510963065134\n",
      "NDCG: 0.00034985510963065134\n",
      "Epoch 4/30\n",
      "64000/64000 [==============================] - 1130s 18ms/step - loss: 971.5892\n",
      "Recall: 0.0002545414058765451\n",
      "NDCG: 0.0002545414058765451\n",
      "Epoch 5/30\n",
      "64000/64000 [==============================] - 1652s 26ms/step - loss: 970.3365\n",
      "Recall: 0.00023371592846438047\n",
      "NDCG: 0.00023371592846438047\n",
      "Epoch 6/30\n",
      "64000/64000 [==============================] - 1681s 26ms/step - loss: 969.4501\n",
      "Recall: 0.0002826813301078007\n",
      "NDCG: 0.0002826813301078007\n",
      "Epoch 7/30\n",
      "64000/64000 [==============================] - 1679s 26ms/step - loss: 968.7317\n",
      "Recall: 0.0003726471318499181\n",
      "NDCG: 0.0003726471318499181\n",
      "Epoch 8/30\n",
      "64000/64000 [==============================] - 1676s 26ms/step - loss: 968.1772\n",
      "Recall: 0.00046536419248106533\n",
      "NDCG: 0.00046536419248106533\n",
      "Epoch 9/30\n",
      "64000/64000 [==============================] - 1673s 26ms/step - loss: 967.6705\n",
      "Recall: 0.0005227430490046585\n",
      "NDCG: 0.0005227430490046585\n",
      "Epoch 10/30\n",
      "64000/64000 [==============================] - 1585s 25ms/step - loss: 967.1792\n",
      "Recall: 0.00033332853378131996\n",
      "NDCG: 0.00033332853378131996\n",
      "Epoch 11/30\n",
      "64000/64000 [==============================] - 1164s 18ms/step - loss: 966.7319\n",
      "Recall: 0.00031115440115440116\n",
      "NDCG: 0.00031115440115440116\n",
      "Epoch 12/30\n",
      "22016/64000 [=========>....................] - ETA: 13:12 - loss: 964.1873"
     ]
    },
    {
     "ename": "KeyboardInterrupt",
     "evalue": "",
     "output_type": "error",
     "traceback": [
      "\u001b[0;31m---------------------------------------------------------------------------\u001b[0m",
      "\u001b[0;31mKeyboardInterrupt\u001b[0m                         Traceback (most recent call last)",
      "\u001b[0;32m<ipython-input-43-d6e19d08c294>\u001b[0m in \u001b[0;36m<module>\u001b[0;34m()\u001b[0m\n\u001b[1;32m      2\u001b[0m         \u001b[0mcallbacks\u001b[0m\u001b[0;34m=\u001b[0m\u001b[0;34m[\u001b[0m\u001b[0mrmetrics\u001b[0m\u001b[0;34m]\u001b[0m\u001b[0;34m,\u001b[0m\u001b[0;34m\u001b[0m\u001b[0m\n\u001b[1;32m      3\u001b[0m         \u001b[0mbatch_size\u001b[0m \u001b[0;34m=\u001b[0m \u001b[0;36m64\u001b[0m\u001b[0;34m,\u001b[0m\u001b[0;34m\u001b[0m\u001b[0m\n\u001b[0;32m----> 4\u001b[0;31m         epochs=30)\n\u001b[0m",
      "\u001b[0;32m/anaconda3/envs/rl-env/lib/python3.6/site-packages/keras/engine/training.py\u001b[0m in \u001b[0;36mfit\u001b[0;34m(self, x, y, batch_size, epochs, verbose, callbacks, validation_split, validation_data, shuffle, class_weight, sample_weight, initial_epoch, steps_per_epoch, validation_steps, **kwargs)\u001b[0m\n\u001b[1;32m   1703\u001b[0m                               \u001b[0minitial_epoch\u001b[0m\u001b[0;34m=\u001b[0m\u001b[0minitial_epoch\u001b[0m\u001b[0;34m,\u001b[0m\u001b[0;34m\u001b[0m\u001b[0m\n\u001b[1;32m   1704\u001b[0m                               \u001b[0msteps_per_epoch\u001b[0m\u001b[0;34m=\u001b[0m\u001b[0msteps_per_epoch\u001b[0m\u001b[0;34m,\u001b[0m\u001b[0;34m\u001b[0m\u001b[0m\n\u001b[0;32m-> 1705\u001b[0;31m                               validation_steps=validation_steps)\n\u001b[0m\u001b[1;32m   1706\u001b[0m \u001b[0;34m\u001b[0m\u001b[0m\n\u001b[1;32m   1707\u001b[0m     def evaluate(self, x=None, y=None,\n",
      "\u001b[0;32m/anaconda3/envs/rl-env/lib/python3.6/site-packages/keras/engine/training.py\u001b[0m in \u001b[0;36m_fit_loop\u001b[0;34m(self, f, ins, out_labels, batch_size, epochs, verbose, callbacks, val_f, val_ins, shuffle, callback_metrics, initial_epoch, steps_per_epoch, validation_steps)\u001b[0m\n\u001b[1;32m   1233\u001b[0m                         \u001b[0mins_batch\u001b[0m\u001b[0;34m[\u001b[0m\u001b[0mi\u001b[0m\u001b[0;34m]\u001b[0m \u001b[0;34m=\u001b[0m \u001b[0mins_batch\u001b[0m\u001b[0;34m[\u001b[0m\u001b[0mi\u001b[0m\u001b[0;34m]\u001b[0m\u001b[0;34m.\u001b[0m\u001b[0mtoarray\u001b[0m\u001b[0;34m(\u001b[0m\u001b[0;34m)\u001b[0m\u001b[0;34m\u001b[0m\u001b[0m\n\u001b[1;32m   1234\u001b[0m \u001b[0;34m\u001b[0m\u001b[0m\n\u001b[0;32m-> 1235\u001b[0;31m                     \u001b[0mouts\u001b[0m \u001b[0;34m=\u001b[0m \u001b[0mf\u001b[0m\u001b[0;34m(\u001b[0m\u001b[0mins_batch\u001b[0m\u001b[0;34m)\u001b[0m\u001b[0;34m\u001b[0m\u001b[0m\n\u001b[0m\u001b[1;32m   1236\u001b[0m                     \u001b[0;32mif\u001b[0m \u001b[0;32mnot\u001b[0m \u001b[0misinstance\u001b[0m\u001b[0;34m(\u001b[0m\u001b[0mouts\u001b[0m\u001b[0;34m,\u001b[0m \u001b[0mlist\u001b[0m\u001b[0;34m)\u001b[0m\u001b[0;34m:\u001b[0m\u001b[0;34m\u001b[0m\u001b[0m\n\u001b[1;32m   1237\u001b[0m                         \u001b[0mouts\u001b[0m \u001b[0;34m=\u001b[0m \u001b[0;34m[\u001b[0m\u001b[0mouts\u001b[0m\u001b[0;34m]\u001b[0m\u001b[0;34m\u001b[0m\u001b[0m\n",
      "\u001b[0;32m/anaconda3/envs/rl-env/lib/python3.6/site-packages/keras/backend/tensorflow_backend.py\u001b[0m in \u001b[0;36m__call__\u001b[0;34m(self, inputs)\u001b[0m\n\u001b[1;32m   2476\u001b[0m         \u001b[0msession\u001b[0m \u001b[0;34m=\u001b[0m \u001b[0mget_session\u001b[0m\u001b[0;34m(\u001b[0m\u001b[0;34m)\u001b[0m\u001b[0;34m\u001b[0m\u001b[0m\n\u001b[1;32m   2477\u001b[0m         updated = session.run(fetches=fetches, feed_dict=feed_dict,\n\u001b[0;32m-> 2478\u001b[0;31m                               **self.session_kwargs)\n\u001b[0m\u001b[1;32m   2479\u001b[0m         \u001b[0;32mreturn\u001b[0m \u001b[0mupdated\u001b[0m\u001b[0;34m[\u001b[0m\u001b[0;34m:\u001b[0m\u001b[0mlen\u001b[0m\u001b[0;34m(\u001b[0m\u001b[0mself\u001b[0m\u001b[0;34m.\u001b[0m\u001b[0moutputs\u001b[0m\u001b[0;34m)\u001b[0m\u001b[0;34m]\u001b[0m\u001b[0;34m\u001b[0m\u001b[0m\n\u001b[1;32m   2480\u001b[0m \u001b[0;34m\u001b[0m\u001b[0m\n",
      "\u001b[0;32m/anaconda3/envs/rl-env/lib/python3.6/site-packages/tensorflow/python/client/session.py\u001b[0m in \u001b[0;36mrun\u001b[0;34m(self, fetches, feed_dict, options, run_metadata)\u001b[0m\n\u001b[1;32m    765\u001b[0m     \u001b[0;32mtry\u001b[0m\u001b[0;34m:\u001b[0m\u001b[0;34m\u001b[0m\u001b[0m\n\u001b[1;32m    766\u001b[0m       result = self._run(None, fetches, feed_dict, options_ptr,\n\u001b[0;32m--> 767\u001b[0;31m                          run_metadata_ptr)\n\u001b[0m\u001b[1;32m    768\u001b[0m       \u001b[0;32mif\u001b[0m \u001b[0mrun_metadata\u001b[0m\u001b[0;34m:\u001b[0m\u001b[0;34m\u001b[0m\u001b[0m\n\u001b[1;32m    769\u001b[0m         \u001b[0mproto_data\u001b[0m \u001b[0;34m=\u001b[0m \u001b[0mtf_session\u001b[0m\u001b[0;34m.\u001b[0m\u001b[0mTF_GetBuffer\u001b[0m\u001b[0;34m(\u001b[0m\u001b[0mrun_metadata_ptr\u001b[0m\u001b[0;34m)\u001b[0m\u001b[0;34m\u001b[0m\u001b[0m\n",
      "\u001b[0;32m/anaconda3/envs/rl-env/lib/python3.6/site-packages/tensorflow/python/client/session.py\u001b[0m in \u001b[0;36m_run\u001b[0;34m(self, handle, fetches, feed_dict, options, run_metadata)\u001b[0m\n\u001b[1;32m    963\u001b[0m     \u001b[0;32mif\u001b[0m \u001b[0mfinal_fetches\u001b[0m \u001b[0;32mor\u001b[0m \u001b[0mfinal_targets\u001b[0m\u001b[0;34m:\u001b[0m\u001b[0;34m\u001b[0m\u001b[0m\n\u001b[1;32m    964\u001b[0m       results = self._do_run(handle, final_targets, final_fetches,\n\u001b[0;32m--> 965\u001b[0;31m                              feed_dict_string, options, run_metadata)\n\u001b[0m\u001b[1;32m    966\u001b[0m     \u001b[0;32melse\u001b[0m\u001b[0;34m:\u001b[0m\u001b[0;34m\u001b[0m\u001b[0m\n\u001b[1;32m    967\u001b[0m       \u001b[0mresults\u001b[0m \u001b[0;34m=\u001b[0m \u001b[0;34m[\u001b[0m\u001b[0;34m]\u001b[0m\u001b[0;34m\u001b[0m\u001b[0m\n",
      "\u001b[0;32m/anaconda3/envs/rl-env/lib/python3.6/site-packages/tensorflow/python/client/session.py\u001b[0m in \u001b[0;36m_do_run\u001b[0;34m(self, handle, target_list, fetch_list, feed_dict, options, run_metadata)\u001b[0m\n\u001b[1;32m   1013\u001b[0m     \u001b[0;32mif\u001b[0m \u001b[0mhandle\u001b[0m \u001b[0;32mis\u001b[0m \u001b[0;32mNone\u001b[0m\u001b[0;34m:\u001b[0m\u001b[0;34m\u001b[0m\u001b[0m\n\u001b[1;32m   1014\u001b[0m       return self._do_call(_run_fn, self._session, feed_dict, fetch_list,\n\u001b[0;32m-> 1015\u001b[0;31m                            target_list, options, run_metadata)\n\u001b[0m\u001b[1;32m   1016\u001b[0m     \u001b[0;32melse\u001b[0m\u001b[0;34m:\u001b[0m\u001b[0;34m\u001b[0m\u001b[0m\n\u001b[1;32m   1017\u001b[0m       return self._do_call(_prun_fn, self._session, handle, feed_dict,\n",
      "\u001b[0;32m/anaconda3/envs/rl-env/lib/python3.6/site-packages/tensorflow/python/client/session.py\u001b[0m in \u001b[0;36m_do_call\u001b[0;34m(self, fn, *args)\u001b[0m\n\u001b[1;32m   1020\u001b[0m   \u001b[0;32mdef\u001b[0m \u001b[0m_do_call\u001b[0m\u001b[0;34m(\u001b[0m\u001b[0mself\u001b[0m\u001b[0;34m,\u001b[0m \u001b[0mfn\u001b[0m\u001b[0;34m,\u001b[0m \u001b[0;34m*\u001b[0m\u001b[0margs\u001b[0m\u001b[0;34m)\u001b[0m\u001b[0;34m:\u001b[0m\u001b[0;34m\u001b[0m\u001b[0m\n\u001b[1;32m   1021\u001b[0m     \u001b[0;32mtry\u001b[0m\u001b[0;34m:\u001b[0m\u001b[0;34m\u001b[0m\u001b[0m\n\u001b[0;32m-> 1022\u001b[0;31m       \u001b[0;32mreturn\u001b[0m \u001b[0mfn\u001b[0m\u001b[0;34m(\u001b[0m\u001b[0;34m*\u001b[0m\u001b[0margs\u001b[0m\u001b[0;34m)\u001b[0m\u001b[0;34m\u001b[0m\u001b[0m\n\u001b[0m\u001b[1;32m   1023\u001b[0m     \u001b[0;32mexcept\u001b[0m \u001b[0merrors\u001b[0m\u001b[0;34m.\u001b[0m\u001b[0mOpError\u001b[0m \u001b[0;32mas\u001b[0m \u001b[0me\u001b[0m\u001b[0;34m:\u001b[0m\u001b[0;34m\u001b[0m\u001b[0m\n\u001b[1;32m   1024\u001b[0m       \u001b[0mmessage\u001b[0m \u001b[0;34m=\u001b[0m \u001b[0mcompat\u001b[0m\u001b[0;34m.\u001b[0m\u001b[0mas_text\u001b[0m\u001b[0;34m(\u001b[0m\u001b[0me\u001b[0m\u001b[0;34m.\u001b[0m\u001b[0mmessage\u001b[0m\u001b[0;34m)\u001b[0m\u001b[0;34m\u001b[0m\u001b[0m\n",
      "\u001b[0;32m/anaconda3/envs/rl-env/lib/python3.6/site-packages/tensorflow/python/client/session.py\u001b[0m in \u001b[0;36m_run_fn\u001b[0;34m(session, feed_dict, fetch_list, target_list, options, run_metadata)\u001b[0m\n\u001b[1;32m   1002\u001b[0m         return tf_session.TF_Run(session, options,\n\u001b[1;32m   1003\u001b[0m                                  \u001b[0mfeed_dict\u001b[0m\u001b[0;34m,\u001b[0m \u001b[0mfetch_list\u001b[0m\u001b[0;34m,\u001b[0m \u001b[0mtarget_list\u001b[0m\u001b[0;34m,\u001b[0m\u001b[0;34m\u001b[0m\u001b[0m\n\u001b[0;32m-> 1004\u001b[0;31m                                  status, run_metadata)\n\u001b[0m\u001b[1;32m   1005\u001b[0m \u001b[0;34m\u001b[0m\u001b[0m\n\u001b[1;32m   1006\u001b[0m     \u001b[0;32mdef\u001b[0m \u001b[0m_prun_fn\u001b[0m\u001b[0;34m(\u001b[0m\u001b[0msession\u001b[0m\u001b[0;34m,\u001b[0m \u001b[0mhandle\u001b[0m\u001b[0;34m,\u001b[0m \u001b[0mfeed_dict\u001b[0m\u001b[0;34m,\u001b[0m \u001b[0mfetch_list\u001b[0m\u001b[0;34m)\u001b[0m\u001b[0;34m:\u001b[0m\u001b[0;34m\u001b[0m\u001b[0m\n",
      "\u001b[0;31mKeyboardInterrupt\u001b[0m: "
     ]
    }
   ],
   "source": [
    "dae.fit(x=train_data[:64000], y=train_data[:64000], \n",
    "        callbacks=[rmetrics],\n",
    "        batch_size = 64,\n",
    "        epochs=30)"
   ]
  },
  {
   "cell_type": "code",
   "execution_count": null,
   "metadata": {},
   "outputs": [],
   "source": [
    "def calculate_recall_ndcg(preds, test, batch_size=100, R=20):\n",
    "    N = test.shape[0]\n",
    "    M = test.shape[1]\n",
    "    total_recall = 0.\n",
    "    \n",
    "    ndcg = np.zeros(test.shape[0], dtype='float32')\n",
    "    \n",
    "    for i in range(0, N, batch_size):\n",
    "        test_batch = test[i:i+batch_size]\n",
    "        pred_batch = preds[i:i+batch_size]\n",
    "        \n",
    "        dense_test = test_batch.todense()\n",
    "        \n",
    "        test_total_items = np.sum(dense_test, axis=1)\n",
    "        ranked_items = np.argsort(pred_batch, axis=1)\n",
    "        \n",
    "        recall = np.expand_dims(np.sum(np.where(ranked_items >= M-R, dense_test, 0), axis=1), 1)/np.minimum(test_total_items, 20)\n",
    "        total_recall += np.sum(recall)\n",
    "        \n",
    "        ranks = np.where(ranked_items >= M-R, M - ranked_items , 0)\n",
    "        matches = np.where(ranked_items >= M-R, dense_test, 0)\n",
    "        dcg = np.sum(np.divide(matches, np.log(ranks + 1), out=np.zeros_like(matches, dtype='float32'), where=ranks!=0), axis=1)\n",
    "       \n",
    "        ndcg[i:i+batch_size] = dcg\n",
    "    \n",
    "    ndcg = ndcg/np.max(ndcg)\n",
    "    total_ndcg = np.sum(ndcg)\n",
    "    \n",
    "    return total_recall/N, total_ndcg/N\n"
   ]
  },
  {
   "cell_type": "code",
   "execution_count": null,
   "metadata": {},
   "outputs": [],
   "source": [
    "preds = np.asarray(dae.predict(val_train_data))\n",
    "        "
   ]
  },
  {
   "cell_type": "code",
   "execution_count": null,
   "metadata": {},
   "outputs": [],
   "source": [
    "i = 0\n",
    "batch_size = 128\n",
    "\n",
    "test = val_test_data\n",
    "test_batch = test[i:i+batch_size]\n",
    "pred_batch = preds[i:i+batch_size]\n",
    "\n",
    "dense_test = test_batch.todense()\n",
    "\n",
    "test_total_items = np.sum(dense_test, axis=1)\n",
    "ranked_items = np.argsort(pred_batch, axis=1)\n",
    "\n",
    "# recall = np.expand_dims(np.sum(np.where(ranked_items >= M-R, dense_test, 0), axis=1), 1)/np.minimum(test_total_items, 20)\n",
    "# total_recall += np.sum(recall)"
   ]
  },
  {
   "cell_type": "code",
   "execution_count": null,
   "metadata": {},
   "outputs": [],
   "source": [
    "M = test.shape[1]\n",
    "R = 20\n",
    "ranks = np.where(ranked_items >= M-R, M - ranked_items , 0)\n",
    "matches = np.where(ranked_items >= M-R, dense_test, 0)\n",
    "dcg = np.sum(np.divide(matches, np.log(ranks + 1), out=np.zeros_like(matches, dtype='float32'), where=ranks!=0), axis=1)"
   ]
  },
  {
   "cell_type": "code",
   "execution_count": null,
   "metadata": {},
   "outputs": [],
   "source": [
    "np.max(ndcg)"
   ]
  },
  {
   "cell_type": "code",
   "execution_count": null,
   "metadata": {},
   "outputs": [],
   "source": [
    "ndcg = np.zeros(test.shape[0], dtype='float32')\n",
    "ndcg[i:i+batch_size] = dcg"
   ]
  },
  {
   "cell_type": "code",
   "execution_count": null,
   "metadata": {},
   "outputs": [],
   "source": [
    "ndcg = ndcg/np.max(ndcg)"
   ]
  }
 ],
 "metadata": {
  "kernelspec": {
   "display_name": "Python [conda env:rl-env]",
   "language": "python",
   "name": "conda-env-rl-env-py"
  },
  "language_info": {
   "codemirror_mode": {
    "name": "ipython",
    "version": 3
   },
   "file_extension": ".py",
   "mimetype": "text/x-python",
   "name": "python",
   "nbconvert_exporter": "python",
   "pygments_lexer": "ipython3",
   "version": "3.6.4"
  }
 },
 "nbformat": 4,
 "nbformat_minor": 2
}
